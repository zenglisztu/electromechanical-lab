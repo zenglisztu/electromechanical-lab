{
 "cells": [
  {
   "cell_type": "code",
   "execution_count": 1,
   "metadata": {},
   "outputs": [],
   "source": [
    "import xlwings as xw\n",
    "import pandas as pd\n",
    "import easyocr\n",
    "import os\n",
    "import re"
   ]
  },
  {
   "cell_type": "code",
   "execution_count": 2,
   "metadata": {},
   "outputs": [],
   "source": [
    "#显示所有列\n",
    "pd.set_option('display.max_rows', None)\n",
    "#显示所有列\n",
    "pd.set_option('display.max_columns', None)"
   ]
  },
  {
   "cell_type": "code",
   "execution_count": 3,
   "metadata": {},
   "outputs": [],
   "source": [
    "#封装ocr函数\n",
    "def read_text(path):\n",
    "    #实例化Reader对象\n",
    "    ocr = easyocr.Reader(['ch_sim', 'en'], gpu=True)\n",
    "    #调用reader的readtext方法提取图片文字信息\n",
    "    text = ocr.readtext(path)\n",
    "    #将提取到的图片信息格式\n",
    "    df = pd.DataFrame(text)\n",
    "    return df[[1]]\n",
    "\n",
    "#获取指定文件夹的所有文件名\n",
    "def filedir(path):\n",
    "\n",
    "    f_list = os.listdir(path)\n",
    "\n",
    "    return f_list"
   ]
  },
  {
   "cell_type": "code",
   "execution_count": 39,
   "metadata": {},
   "outputs": [
    {
     "name": "stderr",
     "output_type": "stream",
     "text": [
      "CUDA not available - defaulting to CPU. Note: This module is much faster with a GPU.\n"
     ]
    },
    {
     "ename": "KeyboardInterrupt",
     "evalue": "",
     "output_type": "error",
     "traceback": [
      "\u001b[1;31m---------------------------------------------------------------------------\u001b[0m",
      "\u001b[1;31mKeyboardInterrupt\u001b[0m                         Traceback (most recent call last)",
      "\u001b[1;32mc:\\Users\\曾立\\Desktop\\机电实验\\read_text.ipynb 单元格 4\u001b[0m in \u001b[0;36m3\n\u001b[0;32m      <a href='vscode-notebook-cell:/c%3A/Users/%E6%9B%BE%E7%AB%8B/Desktop/%E6%9C%BA%E7%94%B5%E5%AE%9E%E9%AA%8C/read_text.ipynb#W3sZmlsZQ%3D%3D?line=0'>1</a>\u001b[0m path_f \u001b[39m=\u001b[39m \u001b[39mr\u001b[39m\u001b[39m'\u001b[39m\u001b[39m./data\u001b[39m\u001b[39m'\u001b[39m\n\u001b[0;32m      <a href='vscode-notebook-cell:/c%3A/Users/%E6%9B%BE%E7%AB%8B/Desktop/%E6%9C%BA%E7%94%B5%E5%AE%9E%E9%AA%8C/read_text.ipynb#W3sZmlsZQ%3D%3D?line=1'>2</a>\u001b[0m files \u001b[39m=\u001b[39m filedir(path_f)\n\u001b[1;32m----> <a href='vscode-notebook-cell:/c%3A/Users/%E6%9B%BE%E7%AB%8B/Desktop/%E6%9C%BA%E7%94%B5%E5%AE%9E%E9%AA%8C/read_text.ipynb#W3sZmlsZQ%3D%3D?line=2'>3</a>\u001b[0m df \u001b[39m=\u001b[39m read_text(\u001b[39mf\u001b[39;49m\u001b[39m'\u001b[39;49m\u001b[39m{\u001b[39;49;00mpath_f\u001b[39m}\u001b[39;49;00m\u001b[39m/\u001b[39;49m\u001b[39m{\u001b[39;49;00mfiles[\u001b[39m0\u001b[39;49m]\u001b[39m}\u001b[39;49;00m\u001b[39m'\u001b[39;49m)\n\u001b[0;32m      <a href='vscode-notebook-cell:/c%3A/Users/%E6%9B%BE%E7%AB%8B/Desktop/%E6%9C%BA%E7%94%B5%E5%AE%9E%E9%AA%8C/read_text.ipynb#W3sZmlsZQ%3D%3D?line=3'>4</a>\u001b[0m df\n",
      "\u001b[1;32mc:\\Users\\曾立\\Desktop\\机电实验\\read_text.ipynb 单元格 4\u001b[0m in \u001b[0;36m4\n\u001b[0;32m      <a href='vscode-notebook-cell:/c%3A/Users/%E6%9B%BE%E7%AB%8B/Desktop/%E6%9C%BA%E7%94%B5%E5%AE%9E%E9%AA%8C/read_text.ipynb#W3sZmlsZQ%3D%3D?line=1'>2</a>\u001b[0m \u001b[39mdef\u001b[39;00m \u001b[39mread_text\u001b[39m(path):\n\u001b[0;32m      <a href='vscode-notebook-cell:/c%3A/Users/%E6%9B%BE%E7%AB%8B/Desktop/%E6%9C%BA%E7%94%B5%E5%AE%9E%E9%AA%8C/read_text.ipynb#W3sZmlsZQ%3D%3D?line=2'>3</a>\u001b[0m     \u001b[39m#实例化Reader对象\u001b[39;00m\n\u001b[1;32m----> <a href='vscode-notebook-cell:/c%3A/Users/%E6%9B%BE%E7%AB%8B/Desktop/%E6%9C%BA%E7%94%B5%E5%AE%9E%E9%AA%8C/read_text.ipynb#W3sZmlsZQ%3D%3D?line=3'>4</a>\u001b[0m     ocr \u001b[39m=\u001b[39m easyocr\u001b[39m.\u001b[39;49mReader([\u001b[39m'\u001b[39;49m\u001b[39mch_sim\u001b[39;49m\u001b[39m'\u001b[39;49m, \u001b[39m'\u001b[39;49m\u001b[39men\u001b[39;49m\u001b[39m'\u001b[39;49m], gpu\u001b[39m=\u001b[39;49m\u001b[39mTrue\u001b[39;49;00m)\n\u001b[0;32m      <a href='vscode-notebook-cell:/c%3A/Users/%E6%9B%BE%E7%AB%8B/Desktop/%E6%9C%BA%E7%94%B5%E5%AE%9E%E9%AA%8C/read_text.ipynb#W3sZmlsZQ%3D%3D?line=4'>5</a>\u001b[0m     \u001b[39m#调用reader的readtext方法提取图片文字信息\u001b[39;00m\n\u001b[0;32m      <a href='vscode-notebook-cell:/c%3A/Users/%E6%9B%BE%E7%AB%8B/Desktop/%E6%9C%BA%E7%94%B5%E5%AE%9E%E9%AA%8C/read_text.ipynb#W3sZmlsZQ%3D%3D?line=5'>6</a>\u001b[0m     text \u001b[39m=\u001b[39m ocr\u001b[39m.\u001b[39mreadtext(path)\n",
      "File \u001b[1;32mc:\\Python\\lib\\site-packages\\easyocr\\easyocr.py:210\u001b[0m, in \u001b[0;36mReader.__init__\u001b[1;34m(self, lang_list, gpu, model_storage_directory, user_network_directory, detect_network, recog_network, download_enabled, detector, recognizer, verbose, quantize, cudnn_benchmark)\u001b[0m\n\u001b[0;32m    207\u001b[0m     dict_list[lang] \u001b[39m=\u001b[39m os\u001b[39m.\u001b[39mpath\u001b[39m.\u001b[39mjoin(BASE_PATH, \u001b[39m'\u001b[39m\u001b[39mdict\u001b[39m\u001b[39m'\u001b[39m, lang \u001b[39m+\u001b[39m \u001b[39m\"\u001b[39m\u001b[39m.txt\u001b[39m\u001b[39m\"\u001b[39m)\n\u001b[0;32m    209\u001b[0m \u001b[39mif\u001b[39;00m detector:\n\u001b[1;32m--> 210\u001b[0m     \u001b[39mself\u001b[39m\u001b[39m.\u001b[39mdetector \u001b[39m=\u001b[39m \u001b[39mself\u001b[39;49m\u001b[39m.\u001b[39;49minitDetector(detector_path)\n\u001b[0;32m    212\u001b[0m \u001b[39mif\u001b[39;00m recognizer:\n\u001b[0;32m    213\u001b[0m     \u001b[39mif\u001b[39;00m recog_network \u001b[39m==\u001b[39m \u001b[39m'\u001b[39m\u001b[39mgeneration1\u001b[39m\u001b[39m'\u001b[39m:\n",
      "File \u001b[1;32mc:\\Python\\lib\\site-packages\\easyocr\\easyocr.py:267\u001b[0m, in \u001b[0;36mReader.initDetector\u001b[1;34m(self, detector_path)\u001b[0m\n\u001b[0;32m    266\u001b[0m \u001b[39mdef\u001b[39;00m \u001b[39minitDetector\u001b[39m(\u001b[39mself\u001b[39m, detector_path):\n\u001b[1;32m--> 267\u001b[0m     \u001b[39mreturn\u001b[39;00m \u001b[39mself\u001b[39;49m\u001b[39m.\u001b[39;49mget_detector(detector_path, \n\u001b[0;32m    268\u001b[0m                              device \u001b[39m=\u001b[39;49m \u001b[39mself\u001b[39;49m\u001b[39m.\u001b[39;49mdevice, \n\u001b[0;32m    269\u001b[0m                              quantize \u001b[39m=\u001b[39;49m \u001b[39mself\u001b[39;49m\u001b[39m.\u001b[39;49mquantize, \n\u001b[0;32m    270\u001b[0m                              cudnn_benchmark \u001b[39m=\u001b[39;49m \u001b[39mself\u001b[39;49m\u001b[39m.\u001b[39;49mcudnn_benchmark\n\u001b[0;32m    271\u001b[0m                              )\n",
      "File \u001b[1;32mc:\\Python\\lib\\site-packages\\easyocr\\detection.py:75\u001b[0m, in \u001b[0;36mget_detector\u001b[1;34m(trained_model, device, quantize, cudnn_benchmark)\u001b[0m\n\u001b[0;32m     74\u001b[0m \u001b[39mdef\u001b[39;00m \u001b[39mget_detector\u001b[39m(trained_model, device\u001b[39m=\u001b[39m\u001b[39m'\u001b[39m\u001b[39mcpu\u001b[39m\u001b[39m'\u001b[39m, quantize\u001b[39m=\u001b[39m\u001b[39mTrue\u001b[39;00m, cudnn_benchmark\u001b[39m=\u001b[39m\u001b[39mFalse\u001b[39;00m):\n\u001b[1;32m---> 75\u001b[0m     net \u001b[39m=\u001b[39m CRAFT()\n\u001b[0;32m     77\u001b[0m     \u001b[39mif\u001b[39;00m device \u001b[39m==\u001b[39m \u001b[39m'\u001b[39m\u001b[39mcpu\u001b[39m\u001b[39m'\u001b[39m:\n\u001b[0;32m     78\u001b[0m         net\u001b[39m.\u001b[39mload_state_dict(copyStateDict(torch\u001b[39m.\u001b[39mload(trained_model, map_location\u001b[39m=\u001b[39mdevice)))\n",
      "File \u001b[1;32mc:\\Python\\lib\\site-packages\\easyocr\\craft.py:35\u001b[0m, in \u001b[0;36mCRAFT.__init__\u001b[1;34m(self, pretrained, freeze)\u001b[0m\n\u001b[0;32m     32\u001b[0m \u001b[39msuper\u001b[39m(CRAFT, \u001b[39mself\u001b[39m)\u001b[39m.\u001b[39m\u001b[39m__init__\u001b[39m()\n\u001b[0;32m     34\u001b[0m \u001b[39m\"\"\" Base network \"\"\"\u001b[39;00m\n\u001b[1;32m---> 35\u001b[0m \u001b[39mself\u001b[39m\u001b[39m.\u001b[39mbasenet \u001b[39m=\u001b[39m vgg16_bn(pretrained, freeze)\n\u001b[0;32m     37\u001b[0m \u001b[39m\"\"\" U network \"\"\"\u001b[39;00m\n\u001b[0;32m     38\u001b[0m \u001b[39mself\u001b[39m\u001b[39m.\u001b[39mupconv1 \u001b[39m=\u001b[39m double_conv(\u001b[39m1024\u001b[39m, \u001b[39m512\u001b[39m, \u001b[39m256\u001b[39m)\n",
      "File \u001b[1;32mc:\\Python\\lib\\site-packages\\easyocr\\model\\modules.py:27\u001b[0m, in \u001b[0;36mvgg16_bn.__init__\u001b[1;34m(self, pretrained, freeze)\u001b[0m\n\u001b[0;32m     25\u001b[0m \u001b[39msuper\u001b[39m(vgg16_bn, \u001b[39mself\u001b[39m)\u001b[39m.\u001b[39m\u001b[39m__init__\u001b[39m()\n\u001b[0;32m     26\u001b[0m \u001b[39mif\u001b[39;00m version\u001b[39m.\u001b[39mparse(torchvision\u001b[39m.\u001b[39m__version__) \u001b[39m>\u001b[39m\u001b[39m=\u001b[39m version\u001b[39m.\u001b[39mparse(\u001b[39m'\u001b[39m\u001b[39m0.13\u001b[39m\u001b[39m'\u001b[39m):\n\u001b[1;32m---> 27\u001b[0m     vgg_pretrained_features \u001b[39m=\u001b[39m models\u001b[39m.\u001b[39;49mvgg16_bn(\n\u001b[0;32m     28\u001b[0m         weights\u001b[39m=\u001b[39;49mmodels\u001b[39m.\u001b[39;49mVGG16_BN_Weights\u001b[39m.\u001b[39;49mDEFAULT \u001b[39mif\u001b[39;49;00m pretrained \u001b[39melse\u001b[39;49;00m \u001b[39mNone\u001b[39;49;00m\n\u001b[0;32m     29\u001b[0m     )\u001b[39m.\u001b[39mfeatures\n\u001b[0;32m     30\u001b[0m \u001b[39melse\u001b[39;00m: \u001b[39m#torchvision.__version__ < 0.13\u001b[39;00m\n\u001b[0;32m     31\u001b[0m     models\u001b[39m.\u001b[39mvgg\u001b[39m.\u001b[39mmodel_urls[\u001b[39m'\u001b[39m\u001b[39mvgg16_bn\u001b[39m\u001b[39m'\u001b[39m] \u001b[39m=\u001b[39m models\u001b[39m.\u001b[39mvgg\u001b[39m.\u001b[39mmodel_urls[\u001b[39m'\u001b[39m\u001b[39mvgg16_bn\u001b[39m\u001b[39m'\u001b[39m]\u001b[39m.\u001b[39mreplace(\u001b[39m'\u001b[39m\u001b[39mhttps://\u001b[39m\u001b[39m'\u001b[39m, \u001b[39m'\u001b[39m\u001b[39mhttp://\u001b[39m\u001b[39m'\u001b[39m)\n",
      "File \u001b[1;32mc:\\Python\\lib\\site-packages\\torchvision\\models\\_utils.py:142\u001b[0m, in \u001b[0;36mkwonly_to_pos_or_kw.<locals>.wrapper\u001b[1;34m(*args, **kwargs)\u001b[0m\n\u001b[0;32m    135\u001b[0m     warnings\u001b[39m.\u001b[39mwarn(\n\u001b[0;32m    136\u001b[0m         \u001b[39mf\u001b[39m\u001b[39m\"\u001b[39m\u001b[39mUsing \u001b[39m\u001b[39m{\u001b[39;00msequence_to_str(\u001b[39mtuple\u001b[39m(keyword_only_kwargs\u001b[39m.\u001b[39mkeys()), separate_last\u001b[39m=\u001b[39m\u001b[39m'\u001b[39m\u001b[39mand \u001b[39m\u001b[39m'\u001b[39m)\u001b[39m}\u001b[39;00m\u001b[39m as positional \u001b[39m\u001b[39m\"\u001b[39m\n\u001b[0;32m    137\u001b[0m         \u001b[39mf\u001b[39m\u001b[39m\"\u001b[39m\u001b[39mparameter(s) is deprecated since 0.13 and may be removed in the future. Please use keyword parameter(s) \u001b[39m\u001b[39m\"\u001b[39m\n\u001b[0;32m    138\u001b[0m         \u001b[39mf\u001b[39m\u001b[39m\"\u001b[39m\u001b[39minstead.\u001b[39m\u001b[39m\"\u001b[39m\n\u001b[0;32m    139\u001b[0m     )\n\u001b[0;32m    140\u001b[0m     kwargs\u001b[39m.\u001b[39mupdate(keyword_only_kwargs)\n\u001b[1;32m--> 142\u001b[0m \u001b[39mreturn\u001b[39;00m fn(\u001b[39m*\u001b[39margs, \u001b[39m*\u001b[39m\u001b[39m*\u001b[39mkwargs)\n",
      "File \u001b[1;32mc:\\Python\\lib\\site-packages\\torchvision\\models\\_utils.py:228\u001b[0m, in \u001b[0;36mhandle_legacy_interface.<locals>.outer_wrapper.<locals>.inner_wrapper\u001b[1;34m(*args, **kwargs)\u001b[0m\n\u001b[0;32m    225\u001b[0m     \u001b[39mdel\u001b[39;00m kwargs[pretrained_param]\n\u001b[0;32m    226\u001b[0m     kwargs[weights_param] \u001b[39m=\u001b[39m default_weights_arg\n\u001b[1;32m--> 228\u001b[0m \u001b[39mreturn\u001b[39;00m builder(\u001b[39m*\u001b[39margs, \u001b[39m*\u001b[39m\u001b[39m*\u001b[39mkwargs)\n",
      "File \u001b[1;32mc:\\Python\\lib\\site-packages\\torchvision\\models\\vgg.py:459\u001b[0m, in \u001b[0;36mvgg16_bn\u001b[1;34m(weights, progress, **kwargs)\u001b[0m\n\u001b[0;32m    439\u001b[0m \u001b[39m\"\"\"VGG-16-BN from `Very Deep Convolutional Networks for Large-Scale Image Recognition <https://arxiv.org/abs/1409.1556>`__.\u001b[39;00m\n\u001b[0;32m    440\u001b[0m \n\u001b[0;32m    441\u001b[0m \u001b[39mArgs:\u001b[39;00m\n\u001b[1;32m   (...)\u001b[0m\n\u001b[0;32m    455\u001b[0m \u001b[39m    :members:\u001b[39;00m\n\u001b[0;32m    456\u001b[0m \u001b[39m\"\"\"\u001b[39;00m\n\u001b[0;32m    457\u001b[0m weights \u001b[39m=\u001b[39m VGG16_BN_Weights\u001b[39m.\u001b[39mverify(weights)\n\u001b[1;32m--> 459\u001b[0m \u001b[39mreturn\u001b[39;00m _vgg(\u001b[39m\"\u001b[39m\u001b[39mD\u001b[39m\u001b[39m\"\u001b[39m, \u001b[39mTrue\u001b[39;00m, weights, progress, \u001b[39m*\u001b[39m\u001b[39m*\u001b[39mkwargs)\n",
      "File \u001b[1;32mc:\\Python\\lib\\site-packages\\torchvision\\models\\vgg.py:103\u001b[0m, in \u001b[0;36m_vgg\u001b[1;34m(cfg, batch_norm, weights, progress, **kwargs)\u001b[0m\n\u001b[0;32m    101\u001b[0m     \u001b[39mif\u001b[39;00m weights\u001b[39m.\u001b[39mmeta[\u001b[39m\"\u001b[39m\u001b[39mcategories\u001b[39m\u001b[39m\"\u001b[39m] \u001b[39mis\u001b[39;00m \u001b[39mnot\u001b[39;00m \u001b[39mNone\u001b[39;00m:\n\u001b[0;32m    102\u001b[0m         _ovewrite_named_param(kwargs, \u001b[39m\"\u001b[39m\u001b[39mnum_classes\u001b[39m\u001b[39m\"\u001b[39m, \u001b[39mlen\u001b[39m(weights\u001b[39m.\u001b[39mmeta[\u001b[39m\"\u001b[39m\u001b[39mcategories\u001b[39m\u001b[39m\"\u001b[39m]))\n\u001b[1;32m--> 103\u001b[0m model \u001b[39m=\u001b[39m VGG(make_layers(cfgs[cfg], batch_norm\u001b[39m=\u001b[39mbatch_norm), \u001b[39m*\u001b[39m\u001b[39m*\u001b[39mkwargs)\n\u001b[0;32m    104\u001b[0m \u001b[39mif\u001b[39;00m weights \u001b[39mis\u001b[39;00m \u001b[39mnot\u001b[39;00m \u001b[39mNone\u001b[39;00m:\n\u001b[0;32m    105\u001b[0m     model\u001b[39m.\u001b[39mload_state_dict(weights\u001b[39m.\u001b[39mget_state_dict(progress\u001b[39m=\u001b[39mprogress))\n",
      "File \u001b[1;32mc:\\Python\\lib\\site-packages\\torchvision\\models\\vgg.py:44\u001b[0m, in \u001b[0;36mVGG.__init__\u001b[1;34m(self, features, num_classes, init_weights, dropout)\u001b[0m\n\u001b[0;32m     41\u001b[0m \u001b[39mself\u001b[39m\u001b[39m.\u001b[39mfeatures \u001b[39m=\u001b[39m features\n\u001b[0;32m     42\u001b[0m \u001b[39mself\u001b[39m\u001b[39m.\u001b[39mavgpool \u001b[39m=\u001b[39m nn\u001b[39m.\u001b[39mAdaptiveAvgPool2d((\u001b[39m7\u001b[39m, \u001b[39m7\u001b[39m))\n\u001b[0;32m     43\u001b[0m \u001b[39mself\u001b[39m\u001b[39m.\u001b[39mclassifier \u001b[39m=\u001b[39m nn\u001b[39m.\u001b[39mSequential(\n\u001b[1;32m---> 44\u001b[0m     nn\u001b[39m.\u001b[39;49mLinear(\u001b[39m512\u001b[39;49m \u001b[39m*\u001b[39;49m \u001b[39m7\u001b[39;49m \u001b[39m*\u001b[39;49m \u001b[39m7\u001b[39;49m, \u001b[39m4096\u001b[39;49m),\n\u001b[0;32m     45\u001b[0m     nn\u001b[39m.\u001b[39mReLU(\u001b[39mTrue\u001b[39;00m),\n\u001b[0;32m     46\u001b[0m     nn\u001b[39m.\u001b[39mDropout(p\u001b[39m=\u001b[39mdropout),\n\u001b[0;32m     47\u001b[0m     nn\u001b[39m.\u001b[39mLinear(\u001b[39m4096\u001b[39m, \u001b[39m4096\u001b[39m),\n\u001b[0;32m     48\u001b[0m     nn\u001b[39m.\u001b[39mReLU(\u001b[39mTrue\u001b[39;00m),\n\u001b[0;32m     49\u001b[0m     nn\u001b[39m.\u001b[39mDropout(p\u001b[39m=\u001b[39mdropout),\n\u001b[0;32m     50\u001b[0m     nn\u001b[39m.\u001b[39mLinear(\u001b[39m4096\u001b[39m, num_classes),\n\u001b[0;32m     51\u001b[0m )\n\u001b[0;32m     52\u001b[0m \u001b[39mif\u001b[39;00m init_weights:\n\u001b[0;32m     53\u001b[0m     \u001b[39mfor\u001b[39;00m m \u001b[39min\u001b[39;00m \u001b[39mself\u001b[39m\u001b[39m.\u001b[39mmodules():\n",
      "File \u001b[1;32mc:\\Python\\lib\\site-packages\\torch\\nn\\modules\\linear.py:101\u001b[0m, in \u001b[0;36mLinear.__init__\u001b[1;34m(self, in_features, out_features, bias, device, dtype)\u001b[0m\n\u001b[0;32m     99\u001b[0m \u001b[39melse\u001b[39;00m:\n\u001b[0;32m    100\u001b[0m     \u001b[39mself\u001b[39m\u001b[39m.\u001b[39mregister_parameter(\u001b[39m'\u001b[39m\u001b[39mbias\u001b[39m\u001b[39m'\u001b[39m, \u001b[39mNone\u001b[39;00m)\n\u001b[1;32m--> 101\u001b[0m \u001b[39mself\u001b[39;49m\u001b[39m.\u001b[39;49mreset_parameters()\n",
      "File \u001b[1;32mc:\\Python\\lib\\site-packages\\torch\\nn\\modules\\linear.py:107\u001b[0m, in \u001b[0;36mLinear.reset_parameters\u001b[1;34m(self)\u001b[0m\n\u001b[0;32m    103\u001b[0m \u001b[39mdef\u001b[39;00m \u001b[39mreset_parameters\u001b[39m(\u001b[39mself\u001b[39m) \u001b[39m-\u001b[39m\u001b[39m>\u001b[39m \u001b[39mNone\u001b[39;00m:\n\u001b[0;32m    104\u001b[0m     \u001b[39m# Setting a=sqrt(5) in kaiming_uniform is the same as initializing with\u001b[39;00m\n\u001b[0;32m    105\u001b[0m     \u001b[39m# uniform(-1/sqrt(in_features), 1/sqrt(in_features)). For details, see\u001b[39;00m\n\u001b[0;32m    106\u001b[0m     \u001b[39m# https://github.com/pytorch/pytorch/issues/57109\u001b[39;00m\n\u001b[1;32m--> 107\u001b[0m     init\u001b[39m.\u001b[39;49mkaiming_uniform_(\u001b[39mself\u001b[39;49m\u001b[39m.\u001b[39;49mweight, a\u001b[39m=\u001b[39;49mmath\u001b[39m.\u001b[39;49msqrt(\u001b[39m5\u001b[39;49m))\n\u001b[0;32m    108\u001b[0m     \u001b[39mif\u001b[39;00m \u001b[39mself\u001b[39m\u001b[39m.\u001b[39mbias \u001b[39mis\u001b[39;00m \u001b[39mnot\u001b[39;00m \u001b[39mNone\u001b[39;00m:\n\u001b[0;32m    109\u001b[0m         fan_in, _ \u001b[39m=\u001b[39m init\u001b[39m.\u001b[39m_calculate_fan_in_and_fan_out(\u001b[39mself\u001b[39m\u001b[39m.\u001b[39mweight)\n",
      "File \u001b[1;32mc:\\Python\\lib\\site-packages\\torch\\nn\\init.py:412\u001b[0m, in \u001b[0;36mkaiming_uniform_\u001b[1;34m(tensor, a, mode, nonlinearity)\u001b[0m\n\u001b[0;32m    410\u001b[0m bound \u001b[39m=\u001b[39m math\u001b[39m.\u001b[39msqrt(\u001b[39m3.0\u001b[39m) \u001b[39m*\u001b[39m std  \u001b[39m# Calculate uniform bounds from standard deviation\u001b[39;00m\n\u001b[0;32m    411\u001b[0m \u001b[39mwith\u001b[39;00m torch\u001b[39m.\u001b[39mno_grad():\n\u001b[1;32m--> 412\u001b[0m     \u001b[39mreturn\u001b[39;00m tensor\u001b[39m.\u001b[39;49muniform_(\u001b[39m-\u001b[39;49mbound, bound)\n",
      "\u001b[1;31mKeyboardInterrupt\u001b[0m: "
     ]
    }
   ],
   "source": [
    "path_f = r'./data'\n",
    "files = filedir(path_f)\n",
    "df = read_text(f'{path_f}/{files[0]}')\n",
    "df"
   ]
  },
  {
   "cell_type": "code",
   "execution_count": null,
   "metadata": {},
   "outputs": [
    {
     "data": {
      "text/plain": [
       "['1419 Jpm', '371', '-10.33 L. 皿', '3.74 A', '1.53 k兀', '1.902「', '49.79 #2']"
      ]
     },
     "execution_count": 17,
     "metadata": {},
     "output_type": "execute_result"
    }
   ],
   "source": [
    "#提取目标数据\n",
    "unfilt = list(df.iloc[[8,10,13,15,17,19,21]][1])\n",
    "unfilt"
   ]
  },
  {
   "cell_type": "code",
   "execution_count": 4,
   "metadata": {},
   "outputs": [],
   "source": [
    "def tran_num(list_):\n",
    "    res = []\n",
    "    for elm in list_:\n",
    "        if isinstance(elm, str):\n",
    "            res.append(float(elm))\n",
    "        else:\n",
    "            return tran_num(elm)\n",
    "    return res"
   ]
  },
  {
   "cell_type": "code",
   "execution_count": 5,
   "metadata": {},
   "outputs": [],
   "source": [
    "def tran_num2(list_):\n",
    "    res = []\n",
    "    for l in list_:\n",
    "        for e in l:\n",
    "            res.append(float(e))\n",
    "\n",
    "    return res"
   ]
  },
  {
   "cell_type": "code",
   "execution_count": null,
   "metadata": {},
   "outputs": [
    {
     "data": {
      "text/plain": [
       "[['1419'], ['371'], ['-10.33'], ['3.74'], ['1.53'], ['1.902'], ['49.79']]"
      ]
     },
     "execution_count": 20,
     "metadata": {},
     "output_type": "execute_result"
    }
   ],
   "source": [
    "#使用正则表达式匹配有效数据\n",
    "filter_ls = [re.findall(pattern=r'[\\d\\.\\-]{2,10}', string=word) for word in unfilt]\n",
    "filter_ls"
   ]
  },
  {
   "cell_type": "code",
   "execution_count": null,
   "metadata": {},
   "outputs": [
    {
     "name": "stdout",
     "output_type": "stream",
     "text": [
      "[-10.33, 1.53, 1.902, 3.74, 49.79, 371.0, 1419.0]\n"
     ]
    }
   ],
   "source": [
    "s_ls = tran_num2(filter_ls)\n",
    "s_ls.sort()\n",
    "print(s_ls)"
   ]
  },
  {
   "cell_type": "code",
   "execution_count": null,
   "metadata": {},
   "outputs": [],
   "source": [
    "#将数据写入excel\n",
    "with xw.App(visible=True) as app:\n",
    "    book = app.books.add()\n",
    "    book.sheets['Sheet1'].range('A1').options(transpose=True).value = filter_ls\n"
   ]
  },
  {
   "cell_type": "code",
   "execution_count": 10,
   "metadata": {},
   "outputs": [
    {
     "name": "stderr",
     "output_type": "stream",
     "text": [
      "CUDA not available - defaulting to CPU. Note: This module is much faster with a GPU.\n",
      "CUDA not available - defaulting to CPU. Note: This module is much faster with a GPU.\n",
      "CUDA not available - defaulting to CPU. Note: This module is much faster with a GPU.\n",
      "CUDA not available - defaulting to CPU. Note: This module is much faster with a GPU.\n",
      "CUDA not available - defaulting to CPU. Note: This module is much faster with a GPU.\n",
      "CUDA not available - defaulting to CPU. Note: This module is much faster with a GPU.\n",
      "CUDA not available - defaulting to CPU. Note: This module is much faster with a GPU.\n",
      "CUDA not available - defaulting to CPU. Note: This module is much faster with a GPU.\n",
      "CUDA not available - defaulting to CPU. Note: This module is much faster with a GPU.\n",
      "CUDA not available - defaulting to CPU. Note: This module is much faster with a GPU.\n",
      "CUDA not available - defaulting to CPU. Note: This module is much faster with a GPU.\n",
      "CUDA not available - defaulting to CPU. Note: This module is much faster with a GPU.\n",
      "CUDA not available - defaulting to CPU. Note: This module is much faster with a GPU.\n",
      "CUDA not available - defaulting to CPU. Note: This module is much faster with a GPU.\n",
      "CUDA not available - defaulting to CPU. Note: This module is much faster with a GPU.\n",
      "CUDA not available - defaulting to CPU. Note: This module is much faster with a GPU.\n",
      "CUDA not available - defaulting to CPU. Note: This module is much faster with a GPU.\n",
      "CUDA not available - defaulting to CPU. Note: This module is much faster with a GPU.\n",
      "CUDA not available - defaulting to CPU. Note: This module is much faster with a GPU.\n",
      "CUDA not available - defaulting to CPU. Note: This module is much faster with a GPU.\n",
      "CUDA not available - defaulting to CPU. Note: This module is much faster with a GPU.\n",
      "CUDA not available - defaulting to CPU. Note: This module is much faster with a GPU.\n",
      "CUDA not available - defaulting to CPU. Note: This module is much faster with a GPU.\n",
      "CUDA not available - defaulting to CPU. Note: This module is much faster with a GPU.\n",
      "CUDA not available - defaulting to CPU. Note: This module is much faster with a GPU.\n",
      "CUDA not available - defaulting to CPU. Note: This module is much faster with a GPU.\n",
      "CUDA not available - defaulting to CPU. Note: This module is much faster with a GPU.\n"
     ]
    }
   ],
   "source": [
    "path_f = r'./data'\n",
    "#获取所有图片路径\n",
    "files = filedir(path_f)\n",
    "data_all = []\n",
    "#遍历所有图片\n",
    "for file in files:\n",
    "    #ocr识别提取图片文字信息\n",
    "    df = read_text(f'{path_f}/{file}')\n",
    "    #提取目标数据\n",
    "    unfilt = list(df.iloc[list(range(24))][1])\n",
    "    #使用正则表达式匹配有效数据\n",
    "    filter_ls = [re.findall(pattern=r'[\\d\\.]{2,10}', string=word) for word in unfilt]\n",
    "    #对数据进行转换和排序\n",
    "    s_ls = tran_num2(filter_ls)\n",
    "    s_ls.sort()\n",
    "\n",
    "    data_all.append(s_ls)\n",
    "    pd.DataFrame(data_all)"
   ]
  },
  {
   "cell_type": "code",
   "execution_count": 11,
   "metadata": {},
   "outputs": [
    {
     "name": "stdout",
     "output_type": "stream",
     "text": [
      "       0      1      2      3      4       5       6        7        8\n",
      "0   1.53  1.902  3.740  10.33  49.79  371.00  1419.0   2021.0   4115.9\n",
      "1   1.46  1.814  3.710  10.35  47.28  353.00  1343.0  20218.0      NaN\n",
      "2   1.34  1.695  3.710  10.29  43.93  329.00  1243.0      NaN      NaN\n",
      "3   1.24  1.577  3.710  10.32  40.61  202.00   306.0   1143.0      NaN\n",
      "4   1.12  1.459  3.710  10.25  37.27  283.00  1043.0   2021.0      NaN\n",
      "5   1.02  1.344  3.710  10.33  33.94  260.00   942.0   4256.0      NaN\n",
      "6   0.91  1.227  3.710  10.30  30.60  235.00   843.0   4283.9      NaN\n",
      "7   0.79  1.110  3.710  10.22  27.23  213.00   741.0  20218.0      NaN\n",
      "8   0.69  0.998  3.710  10.20  23.94  189.00   647.0      NaN      NaN\n",
      "9   0.59  0.891  3.710  10.32  20.61  168.00   542.0      NaN      NaN\n",
      "10  0.32  0.440  2.480   5.51  19.63  148.00   202.0    549.0      NaN\n",
      "11  0.37  0.501  2.480   5.40  23.04  171.00   651.0   4413.7  12021.0\n",
      "12  0.42  0.563  2.480   5.39  26.36  194.00   751.0   2021.0   4435.0\n",
      "13  0.47  0.600  2.480   5.43  28.63  212.00   821.0   4446.0      NaN\n",
      "14  0.54  0.688  2.480   5.44  32.99  239.00   949.0   4466.3      NaN\n",
      "15  0.54  0.688  2.480   5.44  32.99  239.00   949.0   4466.3      NaN\n",
      "16  0.60  0.752  2.480   5.44  36.28  263.00  1049.0   4486.5      NaN\n",
      "17  0.66  0.816  2.520   5.46  39.65  287.00  1150.0   4504.9      NaN\n",
      "18  0.70  0.867  2.520   5.52  41.97  304.00  1219.0   4516.2      NaN\n",
      "19  0.77  0.945  2.520   5.48  46.17   64.00   332.0   1345.0   4537.2\n",
      "20  0.32  0.423  1.910   2.15  48.24  337.00  1429.0   4569.0      NaN\n",
      "21  0.48  0.588  2.050   3.19  22.00   48.42   342.0   1429.0   4594.9\n",
      "22  0.61  0.754  2.230   4.10  48.56  345.00  1426.0   2021.0      NaN\n",
      "23  0.76  0.925  2.450   5.06  48.80  349.00  1426.0   2021.0      NaN\n",
      "24  0.90  1.094  2.660   6.09  48.44  350.00  1410.0   2021.0   4663.9\n",
      "25  1.05  1.273  2.880   7.10  48.90  356.00  1417.0   2021.0      NaN\n",
      "26  1.00  1.190  1.455   3.13   8.05   49.05   361.0   1414.0   4699.8\n"
     ]
    }
   ],
   "source": [
    "print(pd.DataFrame(data_all))\n"
   ]
  }
 ],
 "metadata": {
  "kernelspec": {
   "display_name": "Python 3",
   "language": "python",
   "name": "python3"
  },
  "language_info": {
   "codemirror_mode": {
    "name": "ipython",
    "version": 3
   },
   "file_extension": ".py",
   "mimetype": "text/x-python",
   "name": "python",
   "nbconvert_exporter": "python",
   "pygments_lexer": "ipython3",
   "version": "3.10.7"
  },
  "orig_nbformat": 4
 },
 "nbformat": 4,
 "nbformat_minor": 2
}
